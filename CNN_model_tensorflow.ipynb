{
  "nbformat": 4,
  "nbformat_minor": 0,
  "metadata": {
    "colab": {
      "name": "CNN_model_tensorflow.ipynb",
      "provenance": [],
      "collapsed_sections": [],
      "authorship_tag": "ABX9TyPK0G7QzSQLML4MeSaaGjP4",
      "include_colab_link": true
    },
    "kernelspec": {
      "name": "python3",
      "display_name": "Python 3"
    },
    "language_info": {
      "name": "python"
    }
  },
  "cells": [
    {
      "cell_type": "markdown",
      "metadata": {
        "id": "view-in-github",
        "colab_type": "text"
      },
      "source": [
        "<a href=\"https://colab.research.google.com/github/EricCallaway/COSC_5313_TensorFlow_CNN_model/blob/main/CNN_model_tensorflow.ipynb\" target=\"_parent\"><img src=\"https://colab.research.google.com/assets/colab-badge.svg\" alt=\"Open In Colab\"/></a>"
      ]
    },
    {
      "cell_type": "markdown",
      "source": [
        "Load TensorFlow and CIFAR10 dataset Libriaries"
      ],
      "metadata": {
        "id": "W0NB63PC2mo-"
      }
    },
    {
      "cell_type": "code",
      "execution_count": null,
      "metadata": {
        "id": "u3eky26L16Y1"
      },
      "outputs": [],
      "source": [
        "import tensorflow as tf\n",
        "from tensorflow.keras.datasets import cifar10"
      ]
    },
    {
      "cell_type": "markdown",
      "source": [
        "Use load_data() function to retrieve the traning and test images."
      ],
      "metadata": {
        "id": "H0OmaP3F2lLN"
      }
    },
    {
      "cell_type": "code",
      "source": [
        "(x_train, y_train), (x_test, y_test) = cifar10.load_data()"
      ],
      "metadata": {
        "id": "NMKx-JOm27Bg"
      },
      "execution_count": null,
      "outputs": []
    },
    {
      "cell_type": "markdown",
      "source": [
        "Check the size of the training images x_train classes lables y_train"
      ],
      "metadata": {
        "id": "F2WIWIlF3hpY"
      }
    },
    {
      "cell_type": "code",
      "source": [
        "print(x_train.shape)\n",
        "print(y_train.shape)"
      ],
      "metadata": {
        "colab": {
          "base_uri": "https://localhost:8080/"
        },
        "id": "0WhTLwIx32VB",
        "outputId": "555df6a2-f6a8-4c54-d569-df60ea02dfd8"
      },
      "execution_count": null,
      "outputs": [
        {
          "output_type": "stream",
          "name": "stdout",
          "text": [
            "(50000, 32, 32, 3)\n",
            "(50000, 1)\n"
          ]
        }
      ]
    },
    {
      "cell_type": "markdown",
      "source": [
        "Normalize pixels from 0-255 to 0-1"
      ],
      "metadata": {
        "id": "kmH5VaQy4SEu"
      }
    },
    {
      "cell_type": "code",
      "source": [
        "x_train = x_train.astype(\"float32\") / 255.0\n",
        "x_test = x_test.astype(\"float32\") / 255.0"
      ],
      "metadata": {
        "id": "ODCinXVK4YlW"
      },
      "execution_count": null,
      "outputs": []
    },
    {
      "cell_type": "markdown",
      "source": [
        "Define CNN Model"
      ],
      "metadata": {
        "id": "-n68E14N4mtn"
      }
    },
    {
      "cell_type": "markdown",
      "source": [
        "Below is the Sequential method. This is by far the easiest way to create a CNN. There is very little flexibility with the sequential method."
      ],
      "metadata": {
        "id": "SAtiHjpQ7R-C"
      }
    },
    {
      "cell_type": "code",
      "source": [
        "from tensorflow.keras.models import Sequential \n",
        "sequential_model = tf.keras.Sequential([\n",
        "                          \n",
        "                          tf.keras.Input(shape=(32,32,3)),\n",
        "                          tf.keras.layers.Conv2D(32,3,padding='same', activation='relu', name=\"First_CNN_Layer\"),\n",
        "                          tf.keras.layers.MaxPooling2D((2,2), name=\"First_MaxPool_Layer\"),\n",
        "                          tf.keras.layers.Conv2D(64,3,padding='same', activation='relu',name=\"Second_CNN_Layer\"),\n",
        "                          tf.keras.layers.MaxPooling2D((2,2),name=\"Second_MaxPool_Layer\"),\n",
        "                          tf.keras.layers.Conv2D(128,3,padding='same', activation='relu',name=\"Third_CNN_Layer\"),\n",
        "                          tf.keras.layers.MaxPooling2D((2,2),name=\"Third_MaxPool_Layer\"),\n",
        "                          tf.keras.layers.Flatten(),\n",
        "                          tf.keras.layers.Dense(64, activation='relu', name=\"First_Dense_Layer\"),\n",
        "                          tf.keras.layers.Dense(10, activation='softmax', name=\"Second_Dense_Layer\")\n",
        "\n",
        "])\n",
        "sequential_model.summary()"
      ],
      "metadata": {
        "colab": {
          "base_uri": "https://localhost:8080/"
        },
        "id": "SsfVaX_34atq",
        "outputId": "bce9d7fe-7ba8-4712-ad20-f9c026eb6ecb"
      },
      "execution_count": null,
      "outputs": [
        {
          "output_type": "stream",
          "name": "stdout",
          "text": [
            "Model: \"sequential_1\"\n",
            "_________________________________________________________________\n",
            " Layer (type)                Output Shape              Param #   \n",
            "=================================================================\n",
            " First_CNN_Layer (Conv2D)    (None, 32, 32, 32)        896       \n",
            "                                                                 \n",
            " First_MaxPool_Layer (MaxPoo  (None, 16, 16, 32)       0         \n",
            " ling2D)                                                         \n",
            "                                                                 \n",
            " Second_CNN_Layer (Conv2D)   (None, 16, 16, 64)        18496     \n",
            "                                                                 \n",
            " Second_MaxPool_Layer (MaxPo  (None, 8, 8, 64)         0         \n",
            " oling2D)                                                        \n",
            "                                                                 \n",
            " Third_CNN_Layer (Conv2D)    (None, 8, 8, 128)         73856     \n",
            "                                                                 \n",
            " Third_MaxPool_Layer (MaxPoo  (None, 4, 4, 128)        0         \n",
            " ling2D)                                                         \n",
            "                                                                 \n",
            " flatten_3 (Flatten)         (None, 2048)              0         \n",
            "                                                                 \n",
            " First_Dense_Layer (Dense)   (None, 64)                131136    \n",
            "                                                                 \n",
            " Second_Dense_Layer (Dense)  (None, 10)                650       \n",
            "                                                                 \n",
            "=================================================================\n",
            "Total params: 225,034\n",
            "Trainable params: 225,034\n",
            "Non-trainable params: 0\n",
            "_________________________________________________________________\n"
          ]
        }
      ]
    },
    {
      "cell_type": "markdown",
      "source": [
        "Functional API Method:\n",
        "This method is very useful for debuggin purposes for a very large network where you need debugging at layers level. This method enables us to provide multiple inputs and take multiple outputs as well from the CNN model which is not possible using the Sequential method. "
      ],
      "metadata": {
        "id": "PDeRssFJ7s4x"
      }
    },
    {
      "cell_type": "code",
      "source": [
        "inputs = tf.keras.Input(shape=(32,32,3), name=\"Input_Layer\")\n",
        "x = tf.keras.layers.Conv2D(32,(3,3), padding='same',activation='relu',name=\"First_CNN_Layer\")(inputs)\n",
        "x = tf.keras.layers.MaxPooling2D(pool_size=(2,2), name='First_MaxPool_Layer')(x)\n",
        "x = tf.keras.layers.Conv2D(64,(3,3), padding='same', activation='relu', name='Second_CNN_Layer')(x)\n",
        "x = tf.keras.layers.MaxPooling2D(pool_size=(2,2),  name='Second_MaxPool_Layer' )(x)\n",
        "x = tf.keras.layers.Conv2D(128,(3,3), padding='same', activation='relu', name='Third_CNN_Layer')(x)\n",
        "x = tf.keras.layers.MaxPooling2D(pool_size=(2,2),  name='Third_MaxPool_Layer' )(x)\n",
        "x = tf.keras.layers.Flatten()(x)\n",
        "x = tf.keras.layers.Dense(64, activation='relu',name='First_Dense_Layer')(x)\n",
        "outputs = tf.keras.layers.Dense(10, activation='softmax',name='Second_Dense_Layer')(x)\n",
        "\n",
        "functional_api_model = tf.keras.Model( inputs = inputs, outputs = outputs)\n",
        "functional_api_model.summary()"
      ],
      "metadata": {
        "colab": {
          "base_uri": "https://localhost:8080/"
        },
        "id": "q_tyRK768DEI",
        "outputId": "42560980-38cd-41bf-cfd5-7c3b308b4e71"
      },
      "execution_count": null,
      "outputs": [
        {
          "output_type": "stream",
          "name": "stdout",
          "text": [
            "Model: \"model_1\"\n",
            "_________________________________________________________________\n",
            " Layer (type)                Output Shape              Param #   \n",
            "=================================================================\n",
            " Input_Layer (InputLayer)    [(None, 32, 32, 3)]       0         \n",
            "                                                                 \n",
            " First_CNN_Layer (Conv2D)    (None, 32, 32, 32)        896       \n",
            "                                                                 \n",
            " First_MaxPool_Layer (MaxPoo  (None, 16, 16, 32)       0         \n",
            " ling2D)                                                         \n",
            "                                                                 \n",
            " Second_CNN_Layer (Conv2D)   (None, 16, 16, 64)        18496     \n",
            "                                                                 \n",
            " Second_MaxPool_Layer (MaxPo  (None, 8, 8, 64)         0         \n",
            " oling2D)                                                        \n",
            "                                                                 \n",
            " Third_CNN_Layer (Conv2D)    (None, 8, 8, 128)         73856     \n",
            "                                                                 \n",
            " Third_MaxPool_Layer (MaxPoo  (None, 4, 4, 128)        0         \n",
            " ling2D)                                                         \n",
            "                                                                 \n",
            " flatten_4 (Flatten)         (None, 2048)              0         \n",
            "                                                                 \n",
            " First_Dense_Layer (Dense)   (None, 64)                131136    \n",
            "                                                                 \n",
            " Second_Dense_Layer (Dense)  (None, 10)                650       \n",
            "                                                                 \n",
            "=================================================================\n",
            "Total params: 225,034\n",
            "Trainable params: 225,034\n",
            "Non-trainable params: 0\n",
            "_________________________________________________________________\n"
          ]
        }
      ]
    },
    {
      "cell_type": "markdown",
      "source": [
        "The overall idea of the Functional API method is to pass a layer to the next layer as functional input. Inputs and outputs are defined explicityly and then pass to a keras.Model class to define a model. This way you can pass multiple inputs and outputs as well to the keras.Model class. "
      ],
      "metadata": {
        "id": "70tCNjUd8l9c"
      }
    },
    {
      "cell_type": "markdown",
      "source": [
        "Model Sublcassing: \n",
        "This is a complex but most flexible method to define a model in TensorFlow. We define a model class by inherting keras.Model class and wrap everything within the class. "
      ],
      "metadata": {
        "id": "-45F-eKQ85pX"
      }
    },
    {
      "cell_type": "code",
      "source": [
        "class CustomModel(tf.keras.Model):\n",
        "\n",
        "\tdef __init__(self):\n",
        "\t\t\n",
        "\t\tsuper(CustomModel,self).__init__();\n",
        "\t\t\n",
        "\t\tself.first_cnn_layer = tf.keras.layers.Conv2D(32,(3,3), padding='same',activation='relu',name=\"First_CNN_Layer\")\n",
        "\t\tself.first_pooling = tf.keras.layers.MaxPooling2D((2,2), name=\"First_MaxPool_Layer\")\n",
        "\t\tself.second_cnn_layer = tf.keras.layers.Conv2D(64,(3,3),padding='same', activation='relu',name=\"Second_CNN_Layer\")\n",
        "\t\tself.second_pooling = tf.keras.layers.MaxPooling2D((2,2), name=\"Second_MaxPool_Layer\")\n",
        "\t\tself.third_cnn_layer = tf.keras.layers.Conv2D(128,(3,3), padding='same',activation='relu',name=\"Third_CNN_Layer\")\n",
        "\t\tself.third_pooling = tf.keras.layers.MaxPooling2D((2,2), name=\"Third_MaxPool_Layer\")\n",
        "\t\tself.flatten = tf.keras.layers.Flatten()\n",
        "\t\tself.first_dense_layer = tf.keras.layers.Dense(64, activation='relu', name=\"First_Dense_Layer\")\n",
        "\t\tself.second_dense_layer = tf.keras.layers.Dense(10, name=\"Second_Dense_Layer\")\n",
        "\n",
        "\tdef call(self, input_tensor, training = False):\n",
        "\n",
        "\t\tx = self.first_cnn_layer(input_tensor, training = training)\n",
        "\t\tx = self.first_pooling(x)\n",
        "\t\tx = self.second_cnn_layer(x, training = training)\n",
        "\t\tx = self.second_pooling(x)\n",
        "\t\tx = self.third_cnn_layer(x, training = training) \n",
        "\t\tx = self.third_pooling(x)\n",
        "\t\tx = self.flatten(x)\n",
        "\t\tx = self.first_dense_layer(x, training = training)\n",
        "\t\tx = self.second_dense_layer(x, training = training)\n",
        "\n",
        "\t\treturn x"
      ],
      "metadata": {
        "id": "LXT2ZRMw9HVe"
      },
      "execution_count": null,
      "outputs": []
    },
    {
      "cell_type": "markdown",
      "source": [
        "The overall idea is to first define all layers within the constructor function of the model calss and then define a call method to call these layers. Training parameter in the call method will be automatically set to TRUE by the fit() method and FALSE by the evaluate() method."
      ],
      "metadata": {
        "id": "kAq8FyQw9iOU"
      }
    },
    {
      "cell_type": "markdown",
      "source": [
        "Train the Model"
      ],
      "metadata": {
        "id": "mVy7jlCb9veg"
      }
    },
    {
      "cell_type": "code",
      "source": [
        "sequential_model.compile(\n",
        "\tloss = tf.keras.losses.SparseCategoricalCrossentropy( from_logits = True ),\n",
        "\toptimizer = tf.keras.optimizers.Adam(lr = .001),\n",
        "\tmetrics = ['accuracy']\n",
        "\t)\n",
        "\n",
        "sequential_model.fit(x_train, y_train, epochs= 10, verbose=2, batch_size = 64)\n",
        "sequential_model.evaluate(x_test, y_test, verbose = 2, batch_size=64)"
      ],
      "metadata": {
        "colab": {
          "base_uri": "https://localhost:8080/"
        },
        "id": "Qg5l-Kta9zGX",
        "outputId": "7c70e886-3d36-44a5-b111-c27bb6025d44"
      },
      "execution_count": null,
      "outputs": [
        {
          "output_type": "stream",
          "name": "stderr",
          "text": [
            "/usr/local/lib/python3.7/dist-packages/keras/optimizer_v2/adam.py:105: UserWarning: The `lr` argument is deprecated, use `learning_rate` instead.\n",
            "  super(Adam, self).__init__(name, **kwargs)\n"
          ]
        },
        {
          "output_type": "stream",
          "name": "stdout",
          "text": [
            "Epoch 1/10\n"
          ]
        },
        {
          "output_type": "stream",
          "name": "stderr",
          "text": [
            "/usr/local/lib/python3.7/dist-packages/tensorflow/python/util/dispatch.py:1082: UserWarning: \"`sparse_categorical_crossentropy` received `from_logits=True`, but the `output` argument was produced by a sigmoid or softmax activation and thus does not represent logits. Was this intended?\"\n",
            "  return dispatch_target(*args, **kwargs)\n"
          ]
        },
        {
          "output_type": "stream",
          "name": "stdout",
          "text": [
            "782/782 - 105s - loss: 1.5304 - accuracy: 0.4452 - 105s/epoch - 134ms/step\n",
            "Epoch 2/10\n",
            "782/782 - 106s - loss: 1.0972 - accuracy: 0.6114 - 106s/epoch - 135ms/step\n",
            "Epoch 3/10\n",
            "782/782 - 103s - loss: 0.9219 - accuracy: 0.6769 - 103s/epoch - 132ms/step\n",
            "Epoch 4/10\n",
            "782/782 - 103s - loss: 0.8148 - accuracy: 0.7170 - 103s/epoch - 132ms/step\n",
            "Epoch 5/10\n",
            "782/782 - 104s - loss: 0.7262 - accuracy: 0.7477 - 104s/epoch - 133ms/step\n",
            "Epoch 6/10\n",
            "782/782 - 104s - loss: 0.6530 - accuracy: 0.7719 - 104s/epoch - 132ms/step\n",
            "Epoch 7/10\n",
            "782/782 - 103s - loss: 0.6003 - accuracy: 0.7906 - 103s/epoch - 132ms/step\n",
            "Epoch 8/10\n",
            "782/782 - 104s - loss: 0.5453 - accuracy: 0.8089 - 104s/epoch - 134ms/step\n",
            "Epoch 9/10\n",
            "782/782 - 104s - loss: 0.4918 - accuracy: 0.8281 - 104s/epoch - 134ms/step\n",
            "Epoch 10/10\n",
            "782/782 - 105s - loss: 0.4462 - accuracy: 0.8411 - 105s/epoch - 134ms/step\n",
            "157/157 - 6s - loss: 0.8600 - accuracy: 0.7301 - 6s/epoch - 36ms/step\n"
          ]
        },
        {
          "output_type": "execute_result",
          "data": {
            "text/plain": [
              "[0.8600209951400757, 0.7300999760627747]"
            ]
          },
          "metadata": {},
          "execution_count": 27
        }
      ]
    }
  ]
}